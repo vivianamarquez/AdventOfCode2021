{
 "cells": [
  {
   "cell_type": "markdown",
   "id": "6a6644cf",
   "metadata": {},
   "source": [
    "# --- Day 9: Smoke Basin ---\n",
    "Advent of Code 2021"
   ]
  },
  {
   "cell_type": "markdown",
   "id": "dee85332",
   "metadata": {},
   "source": [
    "## Part 1"
   ]
  },
  {
   "cell_type": "code",
   "execution_count": 1,
   "id": "9c1a42e2",
   "metadata": {},
   "outputs": [],
   "source": [
    "with open(\"input/day9.txt\") as f:\n",
    "    data = f.readlines()"
   ]
  },
  {
   "cell_type": "code",
   "execution_count": 2,
   "id": "9dbd8c3d",
   "metadata": {},
   "outputs": [],
   "source": [
    "data = [list(row.strip()) for row in data]\n",
    "data = [[int(num) for num in row] for row in data]"
   ]
  },
  {
   "cell_type": "code",
   "execution_count": 3,
   "id": "ff8fb538",
   "metadata": {},
   "outputs": [],
   "source": [
    "low_points = []\n",
    "\n",
    "for i in range(len(data)):\n",
    "    for j in range(len(data)):\n",
    "        \n",
    "        point = data[i][j]\n",
    "        adj_points = []\n",
    "        \n",
    "        # UP\n",
    "        if j-1<0:\n",
    "            pass\n",
    "        else:\n",
    "            adj_points.append(data[i][j-1])\n",
    "            \n",
    "        # DOWN\n",
    "        if j+1>=len(data):\n",
    "            pass\n",
    "        else:\n",
    "            adj_points.append(data[i][j+1])\n",
    "            \n",
    "        # LEFT\n",
    "        if i-1<0:\n",
    "            pass\n",
    "        else:\n",
    "            adj_points.append(data[i-1][j])\n",
    "            \n",
    "        # RIGHT\n",
    "        if i+1>=len(data):\n",
    "            pass\n",
    "        else:\n",
    "            adj_points.append(data[i+1][j])\n",
    "        \n",
    "        if all(ap > point for ap in adj_points):\n",
    "            low_points.append(point)"
   ]
  },
  {
   "cell_type": "code",
   "execution_count": 4,
   "id": "e3790004",
   "metadata": {},
   "outputs": [],
   "source": [
    "result = len(low_points) + sum(low_points)"
   ]
  },
  {
   "cell_type": "code",
   "execution_count": 5,
   "id": "629c1af1",
   "metadata": {},
   "outputs": [
    {
     "data": {
      "text/plain": [
       "500"
      ]
     },
     "execution_count": 5,
     "metadata": {},
     "output_type": "execute_result"
    }
   ],
   "source": [
    "result"
   ]
  }
 ],
 "metadata": {
  "kernelspec": {
   "display_name": "Python 3",
   "language": "python",
   "name": "python3"
  },
  "language_info": {
   "codemirror_mode": {
    "name": "ipython",
    "version": 3
   },
   "file_extension": ".py",
   "mimetype": "text/x-python",
   "name": "python",
   "nbconvert_exporter": "python",
   "pygments_lexer": "ipython3",
   "version": "3.7.4"
  }
 },
 "nbformat": 4,
 "nbformat_minor": 5
}

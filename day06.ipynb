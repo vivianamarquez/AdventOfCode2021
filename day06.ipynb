{
 "cells": [
  {
   "cell_type": "markdown",
   "id": "6bd09921",
   "metadata": {},
   "source": [
    "# --- Day 6: Lanternfish ---\n",
    "Advent of Code 2021"
   ]
  },
  {
   "cell_type": "markdown",
   "id": "dee85332",
   "metadata": {},
   "source": [
    "## Part 1"
   ]
  },
  {
   "cell_type": "code",
   "execution_count": 1,
   "id": "03272a1d",
   "metadata": {},
   "outputs": [],
   "source": [
    "with open(\"input/day6.txt\") as f:\n",
    "    data = f.read()"
   ]
  },
  {
   "cell_type": "code",
   "execution_count": 2,
   "id": "93313246",
   "metadata": {},
   "outputs": [],
   "source": [
    "data = [int(laternfish) for laternfish in data.split(\",\")]"
   ]
  },
  {
   "cell_type": "code",
   "execution_count": 3,
   "id": "74b4da6e",
   "metadata": {},
   "outputs": [],
   "source": [
    "data = [(l, True) for l in data] # Data Processing"
   ]
  },
  {
   "cell_type": "code",
   "execution_count": 4,
   "id": "87659b18",
   "metadata": {},
   "outputs": [],
   "source": [
    "def update(tup):\n",
    "    if tup[1]:\n",
    "        if tup[0]>0:\n",
    "            return (tup[0]-1,True)\n",
    "        else:\n",
    "            return (6,True)\n",
    "    else:\n",
    "        if tup[0]>6:\n",
    "            return (tup[0]-1,False)\n",
    "        elif tup[0]>0:\n",
    "            return (tup[0]-1,True)\n",
    "        else:\n",
    "            return (6,True)"
   ]
  },
  {
   "cell_type": "code",
   "execution_count": 5,
   "id": "8d0e1898",
   "metadata": {},
   "outputs": [],
   "source": [
    "days = 80"
   ]
  },
  {
   "cell_type": "code",
   "execution_count": 6,
   "id": "7508d805",
   "metadata": {},
   "outputs": [],
   "source": [
    "for day in range(0,days):\n",
    "    data = [update(tup) for tup in data]\n",
    "    fertil_6 = sum([1 for tup in data if tup == (6,True)])\n",
    "    data.extend([(8,False)]*fertil_6)"
   ]
  },
  {
   "cell_type": "code",
   "execution_count": 7,
   "id": "c4b5c94a",
   "metadata": {
    "scrolled": true
   },
   "outputs": [],
   "source": [
    "# print(f\"After {days} there are {len(data)} laternfishes.\")"
   ]
  },
  {
   "cell_type": "markdown",
   "id": "db845ebe",
   "metadata": {},
   "source": [
    "## Part 2\n",
    "\n",
    "It's the same, but for `256` days. Due to the exponential nature of the problem, we have to come up with a new code."
   ]
  },
  {
   "cell_type": "code",
   "execution_count": 8,
   "id": "431cc8b9",
   "metadata": {},
   "outputs": [],
   "source": [
    "with open(\"input/day6.txt\") as f:\n",
    "    data = f.read()"
   ]
  },
  {
   "cell_type": "code",
   "execution_count": 9,
   "id": "cf9c0139",
   "metadata": {},
   "outputs": [],
   "source": [
    "data = [int(laternfish) for laternfish in data.split(\",\")]"
   ]
  },
  {
   "cell_type": "code",
   "execution_count": 10,
   "id": "70cb88b4",
   "metadata": {},
   "outputs": [],
   "source": [
    "# Initialize\n",
    "data_dict = {}\n",
    "\n",
    "for i in range(9):\n",
    "    data_dict[i] = 0\n",
    "    \n",
    "data_dict[\"6_new\"] = 0\n",
    "    \n",
    "for fish in data:\n",
    "    data_dict[fish] += 1"
   ]
  },
  {
   "cell_type": "code",
   "execution_count": 11,
   "id": "c8f1b234",
   "metadata": {},
   "outputs": [],
   "source": [
    "def update_dict(data_dict):\n",
    "    new_dict = {}\n",
    "\n",
    "    new_dict[6] = data_dict[0]\n",
    "    new_dict['6_new'] = data_dict[7]\n",
    "    new_dict[5] = data_dict[6] + data_dict['6_new']\n",
    "\n",
    "    for i in [1, 2, 3, 4, 5, 8]:\n",
    "        new_dict[i-1] = data_dict[i]\n",
    "\n",
    "    new_dict[8] = new_dict[6]\n",
    "    \n",
    "    return new_dict"
   ]
  },
  {
   "cell_type": "code",
   "execution_count": 12,
   "id": "f73e8ca9",
   "metadata": {},
   "outputs": [],
   "source": [
    "days = 256"
   ]
  },
  {
   "cell_type": "code",
   "execution_count": 13,
   "id": "bed0ba57",
   "metadata": {},
   "outputs": [],
   "source": [
    "for day in range(0, days):\n",
    "    data_dict = update_dict(data_dict)\n",
    "\n",
    "# print(f\"After {day+1} days: {sum(data_dict.values())} laternfishes.\")"
   ]
  }
 ],
 "metadata": {
  "kernelspec": {
   "display_name": "Python 3",
   "language": "python",
   "name": "python3"
  },
  "language_info": {
   "codemirror_mode": {
    "name": "ipython",
    "version": 3
   },
   "file_extension": ".py",
   "mimetype": "text/x-python",
   "name": "python",
   "nbconvert_exporter": "python",
   "pygments_lexer": "ipython3",
   "version": "3.7.4"
  }
 },
 "nbformat": 4,
 "nbformat_minor": 5
}

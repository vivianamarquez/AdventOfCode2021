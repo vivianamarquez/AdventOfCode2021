{
 "cells": [
  {
   "cell_type": "markdown",
   "id": "6bd09921",
   "metadata": {},
   "source": [
    "# --- Day 6: Lanternfish ---\n",
    "Advent of Code 2021"
   ]
  },
  {
   "cell_type": "markdown",
   "id": "dee85332",
   "metadata": {},
   "source": [
    "## Part 1"
   ]
  },
  {
   "cell_type": "code",
   "execution_count": 1,
   "id": "7c39eb29",
   "metadata": {},
   "outputs": [],
   "source": [
    "with open(\"input/day6.txt\") as f:\n",
    "    data = f.read()"
   ]
  },
  {
   "cell_type": "code",
   "execution_count": 2,
   "id": "dc7ef72c",
   "metadata": {},
   "outputs": [
    {
     "name": "stdout",
     "output_type": "stream",
     "text": [
      "We start with 300 laternfishes.\n"
     ]
    }
   ],
   "source": [
    "data = [int(laternfish) for laternfish in data.split(\",\")]\n",
    "print(f\"We start with {len(data)} laternfishes.\")"
   ]
  },
  {
   "cell_type": "code",
   "execution_count": 3,
   "id": "03e906e5",
   "metadata": {},
   "outputs": [],
   "source": [
    "data = [(l, True) for l in data] # Data Processing"
   ]
  },
  {
   "cell_type": "code",
   "execution_count": 4,
   "id": "e2e7d375",
   "metadata": {},
   "outputs": [],
   "source": [
    "def update(tup):\n",
    "    if tup[1]:\n",
    "        if tup[0]>0:\n",
    "            return (tup[0]-1,True)\n",
    "        else:\n",
    "            return (6,True)\n",
    "    else:\n",
    "        if tup[0]>6:\n",
    "            return (tup[0]-1,False)\n",
    "        elif tup[0]>0:\n",
    "            return (tup[0]-1,True)\n",
    "        else:\n",
    "            return (6,True)"
   ]
  },
  {
   "cell_type": "code",
   "execution_count": 5,
   "id": "39539bf5",
   "metadata": {},
   "outputs": [],
   "source": [
    "days = 80"
   ]
  },
  {
   "cell_type": "code",
   "execution_count": 6,
   "id": "ac79a5a7",
   "metadata": {},
   "outputs": [],
   "source": [
    "for day in range(0,days):\n",
    "    data = [update(tup) for tup in data]\n",
    "    fertil_6 = sum([1 for tup in data if tup == (6,True)])\n",
    "    data.extend([(8,False)]*fertil_6)"
   ]
  },
  {
   "cell_type": "code",
   "execution_count": 7,
   "id": "3856d25d",
   "metadata": {},
   "outputs": [
    {
     "name": "stdout",
     "output_type": "stream",
     "text": [
      "After 80 there are 361169 laternfishes.\n"
     ]
    }
   ],
   "source": [
    "print(f\"After {days} there are {len(data)} laternfishes.\")"
   ]
  }
 ],
 "metadata": {
  "kernelspec": {
   "display_name": "Python 3",
   "language": "python",
   "name": "python3"
  },
  "language_info": {
   "codemirror_mode": {
    "name": "ipython",
    "version": 3
   },
   "file_extension": ".py",
   "mimetype": "text/x-python",
   "name": "python",
   "nbconvert_exporter": "python",
   "pygments_lexer": "ipython3",
   "version": "3.7.4"
  }
 },
 "nbformat": 4,
 "nbformat_minor": 5
}

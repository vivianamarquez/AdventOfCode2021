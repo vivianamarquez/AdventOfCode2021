{
 "cells": [
  {
   "cell_type": "markdown",
   "id": "6bd09921",
   "metadata": {},
   "source": [
    "# --- Day 5: Hydrothermal Venture ---\n",
    "Advent of Code 2021"
   ]
  },
  {
   "cell_type": "markdown",
   "id": "dee85332",
   "metadata": {},
   "source": [
    "## Part 1"
   ]
  },
  {
   "cell_type": "code",
   "execution_count": 1,
   "id": "10f2e9de",
   "metadata": {},
   "outputs": [],
   "source": [
    "from collections import Counter"
   ]
  },
  {
   "cell_type": "code",
   "execution_count": 2,
   "id": "b1f5e70f",
   "metadata": {},
   "outputs": [],
   "source": [
    "with open(\"input/day5.txt\") as f:\n",
    "    data = f.readlines()"
   ]
  },
  {
   "cell_type": "code",
   "execution_count": 3,
   "id": "75001f9b",
   "metadata": {},
   "outputs": [],
   "source": [
    "def process_data(line):\n",
    "    line = line.split()\n",
    "    line = f\"{line[0]},{line[2]}\".split(\",\")\n",
    "    line = {\"x1\": int(line[0]),\n",
    "            \"y1\": int(line[1]),\n",
    "            \"x2\": int(line[2]),\n",
    "            \"y2\": int(line[3])}\n",
    "    return line"
   ]
  },
  {
   "cell_type": "code",
   "execution_count": 4,
   "id": "3a6e31ad",
   "metadata": {},
   "outputs": [],
   "source": [
    "data = [process_data(line) for line in data]\n",
    "data_valid = [line for line in data if (line['x1']==line['x2']) or (line['y1']==line['y2'])]"
   ]
  },
  {
   "cell_type": "code",
   "execution_count": 5,
   "id": "d3c3f801",
   "metadata": {},
   "outputs": [],
   "source": [
    "def get_points(line):\n",
    "    if line['x1'] == line['x2']:\n",
    "        ys = sorted([line['y1'], line['y2']])\n",
    "        ys = list(range(ys[0], ys[1]+1))\n",
    "        points = [(line['x1'], y) for y in ys]  \n",
    "    else:\n",
    "        xs = sorted([line['x1'], line['x2']])\n",
    "        xs = list(range(xs[0], xs[1]+1))\n",
    "        points = [(x,line['y1']) for x in xs]  \n",
    "    return points"
   ]
  },
  {
   "cell_type": "code",
   "execution_count": 6,
   "id": "f884f260",
   "metadata": {},
   "outputs": [],
   "source": [
    "diagram = sum([get_points(line) for line in data_valid],[])"
   ]
  },
  {
   "cell_type": "code",
   "execution_count": 7,
   "id": "1102b97d",
   "metadata": {},
   "outputs": [],
   "source": [
    "danger_areas = {k:v for k,v in Counter(diagram).items() if v>1}\n",
    "# print(f\"At {len(danger_areas)} points at least two lines overlap.\")"
   ]
  },
  {
   "cell_type": "markdown",
   "id": "76e5ab55",
   "metadata": {},
   "source": [
    "## Part 2"
   ]
  },
  {
   "cell_type": "code",
   "execution_count": 8,
   "id": "4935d0c2",
   "metadata": {},
   "outputs": [],
   "source": [
    "data_diagonals = [line for line in data if line not in data_valid]\n",
    "assert len(data) == len(data_valid) + len(data_diagonals)"
   ]
  },
  {
   "cell_type": "code",
   "execution_count": 9,
   "id": "83a92497",
   "metadata": {},
   "outputs": [],
   "source": [
    "def get_points_diagonal(line):\n",
    "    xi = 1 if line['x1']<line['x2'] else - 1\n",
    "    yi = 1 if line['y1']<line['y2'] else - 1\n",
    "\n",
    "    xs = list(range(line['x1'],line['x2']+xi,xi))\n",
    "    ys = list(range(line['y1'],line['y2']+yi,yi))\n",
    "\n",
    "    return list(zip(xs,ys))"
   ]
  },
  {
   "cell_type": "code",
   "execution_count": 10,
   "id": "9c2e5980",
   "metadata": {},
   "outputs": [],
   "source": [
    "diagonals = sum([get_points_diagonal(line) for line in data_diagonals],[])"
   ]
  },
  {
   "cell_type": "code",
   "execution_count": 11,
   "id": "5ea07e2e",
   "metadata": {},
   "outputs": [],
   "source": [
    "diagram.extend(diagonals)"
   ]
  },
  {
   "cell_type": "code",
   "execution_count": 12,
   "id": "8954668d",
   "metadata": {},
   "outputs": [],
   "source": [
    "danger_areas = {k:v for k,v in Counter(diagram).items() if v>1}\n",
    "# print(f\"At {len(danger_areas)} points at least two lines overlap.\")"
   ]
  }
 ],
 "metadata": {
  "kernelspec": {
   "display_name": "Python 3",
   "language": "python",
   "name": "python3"
  },
  "language_info": {
   "codemirror_mode": {
    "name": "ipython",
    "version": 3
   },
   "file_extension": ".py",
   "mimetype": "text/x-python",
   "name": "python",
   "nbconvert_exporter": "python",
   "pygments_lexer": "ipython3",
   "version": "3.7.4"
  }
 },
 "nbformat": 4,
 "nbformat_minor": 5
}

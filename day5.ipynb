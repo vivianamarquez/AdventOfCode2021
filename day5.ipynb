{
 "cells": [
  {
   "cell_type": "markdown",
   "id": "6bd09921",
   "metadata": {},
   "source": [
    "# --- Day 5: Hydrothermal Venture ---\n",
    "Advent of Code 2021"
   ]
  },
  {
   "cell_type": "markdown",
   "id": "dee85332",
   "metadata": {},
   "source": [
    "## Part 1"
   ]
  },
  {
   "cell_type": "code",
   "execution_count": 1,
   "id": "ae046c50",
   "metadata": {},
   "outputs": [],
   "source": [
    "from collections import Counter"
   ]
  },
  {
   "cell_type": "code",
   "execution_count": 2,
   "id": "6a5a41a7",
   "metadata": {},
   "outputs": [],
   "source": [
    "with open(\"input/day5.txt\") as f:\n",
    "    data = f.readlines()"
   ]
  },
  {
   "cell_type": "code",
   "execution_count": 3,
   "id": "663b2e25",
   "metadata": {},
   "outputs": [],
   "source": [
    "def process_data(line):\n",
    "    line = line.split()\n",
    "    line = f\"{line[0]},{line[2]}\".split(\",\")\n",
    "    line = {\"x1\": int(line[0]),\n",
    "            \"y1\": int(line[1]),\n",
    "            \"x2\": int(line[2]),\n",
    "            \"y2\": int(line[3])}\n",
    "    return line"
   ]
  },
  {
   "cell_type": "code",
   "execution_count": 4,
   "id": "02d2cfcb",
   "metadata": {},
   "outputs": [],
   "source": [
    "data = [process_data(line) for line in data]\n",
    "data_valid = [line for line in data if (line['x1']==line['x2']) or (line['y1']==line['y2'])]"
   ]
  },
  {
   "cell_type": "code",
   "execution_count": 5,
   "id": "3968e0ee",
   "metadata": {},
   "outputs": [],
   "source": [
    "def get_points(line):\n",
    "    if line['x1'] == line['x2']:\n",
    "        ys = sorted([line['y1'], line['y2']])\n",
    "        ys = list(range(ys[0], ys[1]+1))\n",
    "        points = [(line['x1'], y) for y in ys]  \n",
    "    else:\n",
    "        xs = sorted([line['x1'], line['x2']])\n",
    "        xs = list(range(xs[0], xs[1]+1))\n",
    "        points = [(x,line['y1']) for x in xs]  \n",
    "    return points"
   ]
  },
  {
   "cell_type": "code",
   "execution_count": 6,
   "id": "5ba01c99",
   "metadata": {},
   "outputs": [],
   "source": [
    "diagram = sum([get_points(line) for line in data_valid],[])"
   ]
  },
  {
   "cell_type": "code",
   "execution_count": 7,
   "id": "a7fc4ad4",
   "metadata": {},
   "outputs": [
    {
     "name": "stdout",
     "output_type": "stream",
     "text": [
      "At 5084 points at least two lines overlap.\n"
     ]
    }
   ],
   "source": [
    "danger_areas = {k:v for k,v in Counter(diagram).items() if v>1}\n",
    "print(f\"At {len(danger_areas)} points at least two lines overlap.\")"
   ]
  },
  {
   "cell_type": "code",
   "execution_count": null,
   "id": "b3e628aa",
   "metadata": {},
   "outputs": [],
   "source": []
  },
  {
   "cell_type": "code",
   "execution_count": null,
   "id": "cc7bead2",
   "metadata": {},
   "outputs": [],
   "source": []
  },
  {
   "cell_type": "code",
   "execution_count": null,
   "id": "7985d279",
   "metadata": {},
   "outputs": [],
   "source": []
  },
  {
   "cell_type": "code",
   "execution_count": null,
   "id": "9a6d0d20",
   "metadata": {},
   "outputs": [],
   "source": []
  },
  {
   "cell_type": "code",
   "execution_count": 8,
   "id": "7f415ebe",
   "metadata": {},
   "outputs": [
    {
     "name": "stdout",
     "output_type": "stream",
     "text": [
      "989 989\n"
     ]
    }
   ],
   "source": [
    "max_x = max(sum([[line['x1'], line['x2']] for line in data],[]))\n",
    "max_y = max(sum([[line['x1'], line['x2']] for line in data],[]))\n",
    "\n",
    "print(max_x,max_y)\n",
    "\n",
    "diagram = [[0 for row in range(9+1)] for column in range(9+1)]"
   ]
  }
 ],
 "metadata": {
  "kernelspec": {
   "display_name": "Python 3",
   "language": "python",
   "name": "python3"
  },
  "language_info": {
   "codemirror_mode": {
    "name": "ipython",
    "version": 3
   },
   "file_extension": ".py",
   "mimetype": "text/x-python",
   "name": "python",
   "nbconvert_exporter": "python",
   "pygments_lexer": "ipython3",
   "version": "3.7.4"
  }
 },
 "nbformat": 4,
 "nbformat_minor": 5
}

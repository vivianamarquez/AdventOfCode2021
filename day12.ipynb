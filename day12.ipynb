{
 "cells": [
  {
   "cell_type": "markdown",
   "id": "a588c0a8",
   "metadata": {},
   "source": [
    "# --- Day 12: Passage Pathing ---\n",
    "Advent of Code 2021"
   ]
  },
  {
   "cell_type": "markdown",
   "id": "57d38f3a",
   "metadata": {},
   "source": [
    "## Part 1"
   ]
  },
  {
   "cell_type": "code",
   "execution_count": 1,
   "id": "546f68e8",
   "metadata": {},
   "outputs": [],
   "source": [
    "import networkx as nx"
   ]
  },
  {
   "cell_type": "code",
   "execution_count": 25,
   "id": "3b3e2961",
   "metadata": {},
   "outputs": [],
   "source": [
    "data = '''\n",
    "start-A\n",
    "start-b\n",
    "A-c\n",
    "A-b\n",
    "b-d\n",
    "A-end\n",
    "b-end\n",
    "'''\n",
    "data = data.split() \n",
    "data = [item.replace(\"start\", \"START\").replace(\"end\", \"END\") for item in data]\n",
    "data = [tuple(item.split(\"-\")) for item in data]\n",
    "data = [item for item in data if not \"\".join(item).islower()]"
   ]
  },
  {
   "cell_type": "code",
   "execution_count": 26,
   "id": "fdc9f025",
   "metadata": {},
   "outputs": [
    {
     "data": {
      "text/plain": [
       "[('START', 'A'),\n",
       " ('START', 'b'),\n",
       " ('A', 'c'),\n",
       " ('A', 'b'),\n",
       " ('A', 'END'),\n",
       " ('b', 'END')]"
      ]
     },
     "execution_count": 26,
     "metadata": {},
     "output_type": "execute_result"
    }
   ],
   "source": [
    "data"
   ]
  },
  {
   "cell_type": "code",
   "execution_count": 27,
   "id": "a331c9b4",
   "metadata": {},
   "outputs": [],
   "source": [
    "reversed_edges = []\n",
    "\n",
    "for edge in data:\n",
    "    # if \"START\" not in edge and \"END\" not in edge:\n",
    "        reversed_edges.append(tuple(reversed(edge)))\n",
    "        \n",
    "data.extend(reversed_edges)\n",
    "data = list(set(data))"
   ]
  },
  {
   "cell_type": "code",
   "execution_count": 28,
   "id": "ece375f0",
   "metadata": {},
   "outputs": [
    {
     "data": {
      "text/plain": [
       "[('A', 'END'),\n",
       " ('A', 'START'),\n",
       " ('c', 'A'),\n",
       " ('b', 'A'),\n",
       " ('END', 'A'),\n",
       " ('END', 'b'),\n",
       " ('A', 'c'),\n",
       " ('b', 'END'),\n",
       " ('START', 'A'),\n",
       " ('b', 'START'),\n",
       " ('A', 'b'),\n",
       " ('START', 'b')]"
      ]
     },
     "execution_count": 28,
     "metadata": {},
     "output_type": "execute_result"
    }
   ],
   "source": [
    "data"
   ]
  },
  {
   "cell_type": "code",
   "execution_count": 29,
   "id": "79011952",
   "metadata": {},
   "outputs": [],
   "source": [
    "G = nx.DiGraph()\n",
    "\n",
    "for edge in data:\n",
    "    G.add_edge(edge[0], edge[1])"
   ]
  },
  {
   "cell_type": "code",
   "execution_count": 30,
   "id": "9e1e2084",
   "metadata": {},
   "outputs": [
    {
     "data": {
      "image/png": "[encoded data removed]",
      "text/plain": [
       "<Figure size 432x288 with 1 Axes>"
      ]
     },
     "metadata": {},
     "output_type": "display_data"
    }
   ],
   "source": [
    "nx.draw_networkx(G)"
   ]
  },
  {
   "cell_type": "code",
   "execution_count": 42,
   "id": "28a6a1a7",
   "metadata": {},
   "outputs": [
    {
     "data": {
      "text/plain": [
       "[['START', 'A', 'END'],\n",
       " ['START', 'A', 'b', 'END'],\n",
       " ['START', 'b', 'A', 'END'],\n",
       " ['START', 'b', 'END']]"
      ]
     },
     "execution_count": 42,
     "metadata": {},
     "output_type": "execute_result"
    }
   ],
   "source": [
    "list(nx.all_simple_paths(G,\"START\", \"END\"))"
   ]
  },
  {
   "cell_type": "code",
   "execution_count": null,
   "id": "8a4f613b",
   "metadata": {},
   "outputs": [],
   "source": []
  },
  {
   "cell_type": "code",
   "execution_count": null,
   "id": "6505109e",
   "metadata": {},
   "outputs": [],
   "source": []
  },
  {
   "cell_type": "code",
   "execution_count": null,
   "id": "a94a4c3f",
   "metadata": {},
   "outputs": [],
   "source": []
  },
  {
   "cell_type": "code",
   "execution_count": 1,
   "id": "8fe679f9",
   "metadata": {},
   "outputs": [],
   "source": [
    "from itertools import permutations\n",
    "from collections import Counter"
   ]
  },
  {
   "cell_type": "code",
   "execution_count": 2,
   "id": "508f1878",
   "metadata": {},
   "outputs": [],
   "source": [
    "with open(\"input/day12.txt\") as f:\n",
    "    data = f.read()"
   ]
  },
  {
   "cell_type": "code",
   "execution_count": 3,
   "id": "01cfc54a",
   "metadata": {},
   "outputs": [],
   "source": [
    "data = data.split() \n",
    "data = [item.replace(\"start\", \"START\").replace(\"end\", \"END\") for item in data]\n",
    "data = [tuple(item.split(\"-\")) for item in data]\n",
    "data = [item for item in data if not \"\".join(item).islower()]"
   ]
  },
  {
   "cell_type": "code",
   "execution_count": 4,
   "id": "cf42b19d",
   "metadata": {},
   "outputs": [],
   "source": [
    "reversed_edges = []\n",
    "\n",
    "for edge in data:\n",
    "    if \"START\" not in edge and \"END\" not in edge:\n",
    "        reversed_edges.append(tuple(reversed(edge)))\n",
    "        \n",
    "data.extend(reversed_edges)\n",
    "data = set(data)"
   ]
  },
  {
   "cell_type": "code",
   "execution_count": 16,
   "id": "0be6fb58",
   "metadata": {},
   "outputs": [],
   "source": [
    "start_edges = [item for item in data if item[0]=='START' or item[1]=='START']\n",
    "end_edges = [item for item in data if item[1]=='END' or item[0]=='END'] \n",
    "mid_edges = [item for item in data if item not in start_edges and item not in end_edges]\n",
    "mid_edges = [item for item in mid_edges if not \"\".join(item).islower()]"
   ]
  },
  {
   "cell_type": "code",
   "execution_count": 19,
   "id": "4780cbeb",
   "metadata": {},
   "outputs": [
    {
     "data": {
      "text/plain": [
       "[('iy', 'FP'),\n",
       " ('xx', 'KG'),\n",
       " ('iy', 'AB'),\n",
       " ('AB', 'xx'),\n",
       " ('yi', 'KG'),\n",
       " ('qe', 'FP'),\n",
       " ('yi', 'LS'),\n",
       " ('EG', 'xx'),\n",
       " ('iy', 'KG'),\n",
       " ('KG', 'iy'),\n",
       " ('xx', 'EG'),\n",
       " ('AB', 'qc'),\n",
       " ('qc', 'LS'),\n",
       " ('FP', 'qe'),\n",
       " ('iy', 'LS'),\n",
       " ('KG', 'yi'),\n",
       " ('LS', 'iy'),\n",
       " ('FP', 'xx'),\n",
       " ('yi', 'FP'),\n",
       " ('FP', 'iy'),\n",
       " ('KG', 'xx'),\n",
       " ('qc', 'KG'),\n",
       " ('FP', 'yi'),\n",
       " ('xx', 'FP'),\n",
       " ('xx', 'AB'),\n",
       " ('LS', 'yi'),\n",
       " ('qc', 'AB'),\n",
       " ('KG', 'qc'),\n",
       " ('AB', 'iy'),\n",
       " ('LS', 'qc')]"
      ]
     },
     "execution_count": 19,
     "metadata": {},
     "output_type": "execute_result"
    }
   ],
   "source": [
    "mid_edges"
   ]
  },
  {
   "cell_type": "code",
   "execution_count": null,
   "id": "7b17ed00",
   "metadata": {},
   "outputs": [],
   "source": [
    "all_paths = []\n",
    "for i in range(len(mid_edges)+1):\n",
    "    all_paths.extend(list(permutations(mid_edges, i)))"
   ]
  },
  {
   "cell_type": "code",
   "execution_count": null,
   "id": "1195c650",
   "metadata": {},
   "outputs": [],
   "source": [
    "all_paths = [path for path in all_paths[1:] if path[0][0] in [item[1] for item in start_edges]]\n",
    "all_paths = [path for path in all_paths if path[-1][-1] in [item[0] for item in end_edges]]"
   ]
  },
  {
   "cell_type": "code",
   "execution_count": null,
   "id": "716279a8",
   "metadata": {},
   "outputs": [],
   "source": [
    "def valid_str(path):\n",
    "    temp_str = ''.join([letter for letter in path if letter.islower()])\n",
    "    if len(temp_str)<2:\n",
    "        return True\n",
    "    \n",
    "    if Counter(temp_str).most_common(1)[0][-1]==1:\n",
    "        return True\n",
    "    \n",
    "    return False"
   ]
  },
  {
   "cell_type": "code",
   "execution_count": null,
   "id": "04a3980d",
   "metadata": {},
   "outputs": [],
   "source": [
    "def valid_path(path):\n",
    "    if len(path)==1:\n",
    "        result = f\"{path[0][0]},{path[0][1]}\"\n",
    "        if valid_str(result):\n",
    "            return result\n",
    "        return False\n",
    "    \n",
    "    path_string = \"\".join([\"\".join(tup) for tup in path])\n",
    "    iter_path = iter(path_string[1:-1])\n",
    "    \n",
    "    for x in iter_path:\n",
    "        if x!= next(iter_path):\n",
    "            return False\n",
    "    \n",
    "    temp_str = \",\".join([tup[0] for tup in path[:-1]])\n",
    "    result = f\"{temp_str},{path[-1][0]},{path[-1][1]}\"\n",
    "    if valid_str(result):\n",
    "        return result\n",
    "    return False"
   ]
  },
  {
   "cell_type": "code",
   "execution_count": null,
   "id": "97ff8e8f",
   "metadata": {},
   "outputs": [],
   "source": [
    "all_paths = [valid_path(path) for path in all_paths]"
   ]
  },
  {
   "cell_type": "code",
   "execution_count": null,
   "id": "a1cd501d",
   "metadata": {},
   "outputs": [],
   "source": [
    "direct_paths = [item[1] for item in start_edges if item[1] in [item[0] for item in end_edges]]\n",
    "all_paths.extend(direct_paths)"
   ]
  },
  {
   "cell_type": "code",
   "execution_count": null,
   "id": "c85d3f51",
   "metadata": {},
   "outputs": [],
   "source": [
    "result = sorted([f\"start,{path},end\" for path in all_paths])"
   ]
  },
  {
   "cell_type": "code",
   "execution_count": null,
   "id": "6b3c3889",
   "metadata": {},
   "outputs": [],
   "source": [
    "len(result)"
   ]
  },
  {
   "cell_type": "markdown",
   "id": "946568fd",
   "metadata": {},
   "source": [
    "## Part 2"
   ]
  },
  {
   "cell_type": "code",
   "execution_count": null,
   "id": "68f9cb84",
   "metadata": {},
   "outputs": [],
   "source": []
  }
 ],
 "metadata": {
  "kernelspec": {
   "display_name": "Python 3",
   "language": "python",
   "name": "python3"
  },
  "language_info": {
   "codemirror_mode": {
    "name": "ipython",
    "version": 3
   },
   "file_extension": ".py",
   "mimetype": "text/x-python",
   "name": "python",
   "nbconvert_exporter": "python",
   "pygments_lexer": "ipython3",
   "version": "3.7.4"
  }
 },
 "nbformat": 4,
 "nbformat_minor": 5
}

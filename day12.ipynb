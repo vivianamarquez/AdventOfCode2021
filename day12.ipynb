{
 "cells": [
  {
   "cell_type": "markdown",
   "id": "a588c0a8",
   "metadata": {},
   "source": [
    "# --- Day 12: Passage Pathing ---\n",
    "Advent of Code 2021"
   ]
  },
  {
   "cell_type": "markdown",
   "id": "57d38f3a",
   "metadata": {},
   "source": [
    "## Part 1"
   ]
  },
  {
   "cell_type": "code",
   "execution_count": 1,
   "id": "8fe679f9",
   "metadata": {},
   "outputs": [],
   "source": [
    "from itertools import permutations\n",
    "from collections import Counter"
   ]
  },
  {
   "cell_type": "code",
   "execution_count": 2,
   "id": "7a630375",
   "metadata": {},
   "outputs": [],
   "source": [
    "with open(\"input/day12.txt\") as f:\n",
    "    data = f.read()"
   ]
  },
  {
   "cell_type": "code",
   "execution_count": 3,
   "id": "01cfc54a",
   "metadata": {},
   "outputs": [],
   "source": [
    "data = data.split() \n",
    "data = [item.replace(\"start\", \"START\").replace(\"end\", \"END\") for item in data]\n",
    "data = [tuple(item.split(\"-\")) for item in data]\n",
    "data = [item for item in data if not \"\".join(item).islower()]"
   ]
  },
  {
   "cell_type": "code",
   "execution_count": 4,
   "id": "cf42b19d",
   "metadata": {},
   "outputs": [],
   "source": [
    "reversed_edges = []\n",
    "\n",
    "for edge in data:\n",
    "    if \"START\" not in edge and \"END\" not in edge:\n",
    "        reversed_edges.append(tuple(reversed(edge)))\n",
    "        \n",
    "data.extend(reversed_edges)\n",
    "data = set(data)"
   ]
  },
  {
   "cell_type": "code",
   "execution_count": 5,
   "id": "0be6fb58",
   "metadata": {},
   "outputs": [],
   "source": [
    "start_edges = [item for item in data if item[0]=='START']\n",
    "end_edges = [item for item in data if item[1]=='END']\n",
    "mid_edges = [item for item in data if item[0]!='START' and item[1]!='END']"
   ]
  },
  {
   "cell_type": "code",
   "execution_count": null,
   "id": "7b17ed00",
   "metadata": {},
   "outputs": [],
   "source": [
    "all_paths = []\n",
    "for i in range(len(mid_edges)+1):\n",
    "    all_paths.extend(list(permutations(mid_edges, i)))"
   ]
  },
  {
   "cell_type": "code",
   "execution_count": null,
   "id": "1195c650",
   "metadata": {},
   "outputs": [],
   "source": [
    "all_paths = [path for path in all_paths[1:] if path[0][0] in [item[1] for item in start_edges]]\n",
    "all_paths = [path for path in all_paths if path[-1][-1] in [item[0] for item in end_edges]]"
   ]
  },
  {
   "cell_type": "code",
   "execution_count": null,
   "id": "716279a8",
   "metadata": {},
   "outputs": [],
   "source": [
    "def valid_str(path):\n",
    "    temp_str = ''.join([letter for letter in path if letter.islower()])\n",
    "    if len(temp_str)<2:\n",
    "        return True\n",
    "    \n",
    "    if Counter(temp_str).most_common(1)[0][-1]==1:\n",
    "        return True\n",
    "    \n",
    "    return False"
   ]
  },
  {
   "cell_type": "code",
   "execution_count": null,
   "id": "04a3980d",
   "metadata": {},
   "outputs": [],
   "source": [
    "def valid_path(path):\n",
    "    if len(path)==1:\n",
    "        result = f\"{path[0][0]},{path[0][1]}\"\n",
    "        if valid_str(result):\n",
    "            return result\n",
    "        return False\n",
    "    \n",
    "    path_string = \"\".join([\"\".join(tup) for tup in path])\n",
    "    iter_path = iter(path_string[1:-1])\n",
    "    \n",
    "    for x in iter_path:\n",
    "        if x!= next(iter_path):\n",
    "            return False\n",
    "    \n",
    "    temp_str = \",\".join([tup[0] for tup in path[:-1]])\n",
    "    result = f\"{temp_str},{path[-1][0]},{path[-1][1]}\"\n",
    "    if valid_str(result):\n",
    "        return result\n",
    "    return False"
   ]
  },
  {
   "cell_type": "code",
   "execution_count": null,
   "id": "97ff8e8f",
   "metadata": {},
   "outputs": [],
   "source": [
    "all_paths = [valid_path(path) for path in all_paths]"
   ]
  },
  {
   "cell_type": "code",
   "execution_count": null,
   "id": "a1cd501d",
   "metadata": {},
   "outputs": [],
   "source": [
    "direct_paths = [item[1] for item in start_edges if item[1] in [item[0] for item in end_edges]]\n",
    "all_paths.extend(direct_paths)"
   ]
  },
  {
   "cell_type": "code",
   "execution_count": null,
   "id": "c85d3f51",
   "metadata": {},
   "outputs": [],
   "source": [
    "result = sorted([f\"start,{path},end\" for path in all_paths])"
   ]
  },
  {
   "cell_type": "code",
   "execution_count": null,
   "id": "6b3c3889",
   "metadata": {},
   "outputs": [],
   "source": [
    "len(result)"
   ]
  },
  {
   "cell_type": "markdown",
   "id": "946568fd",
   "metadata": {},
   "source": [
    "## Part 2"
   ]
  },
  {
   "cell_type": "code",
   "execution_count": null,
   "id": "68f9cb84",
   "metadata": {},
   "outputs": [],
   "source": []
  }
 ],
 "metadata": {
  "kernelspec": {
   "display_name": "Python 3",
   "language": "python",
   "name": "python3"
  },
  "language_info": {
   "codemirror_mode": {
    "name": "ipython",
    "version": 3
   },
   "file_extension": ".py",
   "mimetype": "text/x-python",
   "name": "python",
   "nbconvert_exporter": "python",
   "pygments_lexer": "ipython3",
   "version": "3.7.4"
  }
 },
 "nbformat": 4,
 "nbformat_minor": 5
}

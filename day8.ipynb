{
 "cells": [
  {
   "cell_type": "markdown",
   "id": "6bd09921",
   "metadata": {},
   "source": [
    "# --- Day 8: Seven Segment Search ---\n",
    "Advent of Code 2021"
   ]
  },
  {
   "cell_type": "markdown",
   "id": "0e466a21",
   "metadata": {},
   "source": [
    "```\n",
    "0:      1:      2:      3:      4:\n",
    " aaaa    ....    aaaa    aaaa    ....\n",
    "b    c  .    c  .    c  .    c  b    c\n",
    "b    c  .    c  .    c  .    c  b    c\n",
    " ....    ....    dddd    dddd    dddd\n",
    "e    f  .    f  e    .  .    f  .    f\n",
    "e    f  .    f  e    .  .    f  .    f\n",
    " gggg    ....    gggg    gggg    ....\n",
    "\n",
    "  5:      6:      7:      8:      9:\n",
    " aaaa    aaaa    aaaa    aaaa    aaaa\n",
    "b    .  b    .  .    c  b    c  b    c\n",
    "b    .  b    .  .    c  b    c  b    c\n",
    " dddd    dddd    ....    dddd    dddd\n",
    ".    f  e    f  .    f  e    f  .    f\n",
    ".    f  e    f  .    f  e    f  .    f\n",
    " gggg    gggg    ....    gggg    gggg\n",
    " ```"
   ]
  },
  {
   "cell_type": "code",
   "execution_count": 1,
   "id": "0983a290",
   "metadata": {},
   "outputs": [],
   "source": [
    "seven_segment = {\n",
    "    0: 'abcefg',\n",
    "    1: 'cf',\n",
    "    2: 'acdeg',\n",
    "    3: 'acdfg',\n",
    "    4: 'bcdf',\n",
    "    5: 'abdfg',\n",
    "    6: 'abdefg',\n",
    "    7: 'acf',\n",
    "    8: 'abcdefg',\n",
    "    9: 'abcdfg'\n",
    "}"
   ]
  },
  {
   "cell_type": "code",
   "execution_count": 2,
   "id": "d5f2d1af",
   "metadata": {},
   "outputs": [
    {
     "name": "stdout",
     "output_type": "stream",
     "text": [
      "0\tSegment lenght: 6\n",
      "1\tSegment lenght: 2\n",
      "2\tSegment lenght: 5\n",
      "3\tSegment lenght: 5\n",
      "4\tSegment lenght: 4\n",
      "5\tSegment lenght: 5\n",
      "6\tSegment lenght: 6\n",
      "7\tSegment lenght: 3\n",
      "8\tSegment lenght: 7\n",
      "9\tSegment lenght: 6\n"
     ]
    }
   ],
   "source": [
    "for num,seg in seven_segment.items():\n",
    "    print(f\"{num}\\tSegment lenght: {len(seg)}\")"
   ]
  },
  {
   "cell_type": "markdown",
   "id": "4a0c127a",
   "metadata": {},
   "source": [
    "1 (2), 4 (4), 7 (3), and 8 (7) each use a unique number of segments"
   ]
  },
  {
   "cell_type": "markdown",
   "id": "dee85332",
   "metadata": {},
   "source": [
    "## Part 1"
   ]
  },
  {
   "cell_type": "code",
   "execution_count": 3,
   "id": "63233ecf",
   "metadata": {},
   "outputs": [],
   "source": [
    "from collections import Counter"
   ]
  },
  {
   "cell_type": "code",
   "execution_count": 4,
   "id": "0950363f",
   "metadata": {},
   "outputs": [],
   "source": [
    "with open(\"input/day8.txt\") as f:\n",
    "    data = f.readlines()"
   ]
  },
  {
   "cell_type": "code",
   "execution_count": 5,
   "id": "135218d1",
   "metadata": {},
   "outputs": [],
   "source": [
    "len_digit_cnt = Counter([len(digit) for digit in sum([line.split(\"|\")[1].split() for line in data],[])])"
   ]
  },
  {
   "cell_type": "code",
   "execution_count": 6,
   "id": "83ae4e47",
   "metadata": {},
   "outputs": [],
   "source": [
    "result = 0\n",
    "for i in [2,4,3,7]:\n",
    "    result += len_digit_cnt[i]"
   ]
  },
  {
   "cell_type": "code",
   "execution_count": 7,
   "id": "711003b3",
   "metadata": {},
   "outputs": [],
   "source": [
    "# result"
   ]
  },
  {
   "cell_type": "markdown",
   "id": "83fe73d8",
   "metadata": {},
   "source": [
    "## Part 2"
   ]
  }
 ],
 "metadata": {
  "kernelspec": {
   "display_name": "Python 3",
   "language": "python",
   "name": "python3"
  },
  "language_info": {
   "codemirror_mode": {
    "name": "ipython",
    "version": 3
   },
   "file_extension": ".py",
   "mimetype": "text/x-python",
   "name": "python",
   "nbconvert_exporter": "python",
   "pygments_lexer": "ipython3",
   "version": "3.7.4"
  }
 },
 "nbformat": 4,
 "nbformat_minor": 5
}

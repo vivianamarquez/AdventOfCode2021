{
 "cells": [
  {
   "cell_type": "markdown",
   "id": "6bd09921",
   "metadata": {},
   "source": [
    "# --- Day 2: Dive! ---\n",
    "Advent of Code 2021"
   ]
  },
  {
   "cell_type": "markdown",
   "id": "dee85332",
   "metadata": {},
   "source": [
    "## Part 1"
   ]
  },
  {
   "cell_type": "code",
   "execution_count": 1,
   "id": "a55fdea5",
   "metadata": {},
   "outputs": [],
   "source": [
    "with open(\"input/day2.txt\") as f:\n",
    "    data = f.readlines()"
   ]
  },
  {
   "cell_type": "code",
   "execution_count": 5,
   "id": "ab5f936d",
   "metadata": {},
   "outputs": [],
   "source": [
    "forward = [int(step.split()[-1]) for step in data if \"forward\" in step]\n",
    "up = [int(step.split()[-1]) for step in data if \"up\" in step]\n",
    "down = [int(step.split()[-1]) for step in data if \"down\" in step]"
   ]
  },
  {
   "cell_type": "code",
   "execution_count": 8,
   "id": "6e32acbd",
   "metadata": {},
   "outputs": [],
   "source": [
    "assert len(data) == len(forward) + len(up) + len(down)"
   ]
  },
  {
   "cell_type": "code",
   "execution_count": 10,
   "id": "f8a74cce",
   "metadata": {},
   "outputs": [
    {
     "name": "stdout",
     "output_type": "stream",
     "text": [
      "Result: horizontal position of 1975 and a depth of 800. (Multiplying these together produces 1580000.)\n"
     ]
    }
   ],
   "source": [
    "horizontal = sum(forward)\n",
    "depth = sum(down) - sum(up)\n",
    "\n",
    "print(f\"Result: horizontal position of {horizontal} and a depth of {depth}. (Multiplying these together produces {horizontal*depth}.)\")"
   ]
  },
  {
   "cell_type": "markdown",
   "id": "ff7a2aca",
   "metadata": {},
   "source": [
    "## Part 2"
   ]
  },
  {
   "cell_type": "code",
   "execution_count": null,
   "id": "a2162069",
   "metadata": {},
   "outputs": [],
   "source": [
    "down # increases\n",
    "up # decreases\n",
    "forward # hor increases, dep increases: aim * x"
   ]
  }
 ],
 "metadata": {
  "kernelspec": {
   "display_name": "Python 3",
   "language": "python",
   "name": "python3"
  },
  "language_info": {
   "codemirror_mode": {
    "name": "ipython",
    "version": 3
   },
   "file_extension": ".py",
   "mimetype": "text/x-python",
   "name": "python",
   "nbconvert_exporter": "python",
   "pygments_lexer": "ipython3",
   "version": "3.7.4"
  }
 },
 "nbformat": 4,
 "nbformat_minor": 5
}

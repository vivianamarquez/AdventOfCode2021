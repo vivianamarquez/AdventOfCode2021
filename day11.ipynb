{
 "cells": [
  {
   "cell_type": "markdown",
   "id": "a588c0a8",
   "metadata": {},
   "source": [
    "# --- Day 11: Dumbo Octopus ---\n",
    "Advent of Code 2021"
   ]
  },
  {
   "cell_type": "markdown",
   "id": "57d38f3a",
   "metadata": {},
   "source": [
    "## Part 1"
   ]
  },
  {
   "cell_type": "code",
   "execution_count": 1,
   "id": "ef2e3c81",
   "metadata": {},
   "outputs": [],
   "source": [
    "import numpy as np"
   ]
  },
  {
   "cell_type": "code",
   "execution_count": 2,
   "id": "b4dd0b20",
   "metadata": {},
   "outputs": [],
   "source": [
    "with open(\"input/day11.txt\") as f:\n",
    "    data = f.readlines()"
   ]
  },
  {
   "cell_type": "code",
   "execution_count": 3,
   "id": "003ab576",
   "metadata": {},
   "outputs": [],
   "source": [
    "data = [list(row.strip()) for row in data]\n",
    "data = [[int(i) for i in row] for row in data]\n",
    "\n",
    "data = np.array(data)"
   ]
  },
  {
   "cell_type": "markdown",
   "id": "e2093cfe",
   "metadata": {},
   "source": [
    "#### Example data\n",
    "\n",
    "```python\n",
    "data = '''\n",
    "5483143223\n",
    "2745854711\n",
    "5264556173\n",
    "6141336146\n",
    "6357385478\n",
    "4167524645\n",
    "2176841721\n",
    "6882881134\n",
    "4846848554\n",
    "5283751526\n",
    "\n",
    "'''\n",
    "data = [[int(i) for i in row] for row in data.split()]\n",
    "data = np.array(data)\n",
    "```"
   ]
  },
  {
   "cell_type": "code",
   "execution_count": 4,
   "id": "7020874e",
   "metadata": {},
   "outputs": [],
   "source": [
    "def step(data):\n",
    "    data = data + 1\n",
    "    \n",
    "    flashed_check = []\n",
    "    while not False:\n",
    "        for i in range(data.shape[0]):\n",
    "            for j in range(data.shape[1]):\n",
    "                octupus = data[i][j]\n",
    "\n",
    "                if octupus > 9 and (i,j) not in flashed_check:\n",
    "                    up = (i-1,j)\n",
    "                    up_left = (i-1,j-1)\n",
    "                    up_right = (i-1,j+1)\n",
    "\n",
    "                    down = (i+1, j)\n",
    "                    down_left = (i+1,j-1)\n",
    "                    down_right = (i+1,j+1)\n",
    "\n",
    "                    left = (i,j-1)\n",
    "                    right = (i,j+1)\n",
    "\n",
    "                    coords = [up, up_left, up_right, down, down_left, down_right, left, right]\n",
    "                    for coord in coords:\n",
    "                        if not any(c<0 for c in coord) and not any(c>=data.shape[0] for c in coord):\n",
    "                            data[coord[0]][coord[1]] += 1\n",
    "                    flashed_check.append((i,j))\n",
    "\n",
    "        if np.count_nonzero(data > 9) == len(flashed_check):\n",
    "            break\n",
    "            \n",
    "    data = np.where(data > 9, 0, data)\n",
    "    return data, np.count_nonzero(data == 0)"
   ]
  },
  {
   "cell_type": "code",
   "execution_count": 5,
   "id": "725080ee",
   "metadata": {
    "scrolled": false
   },
   "outputs": [],
   "source": [
    "flashes = 0\n",
    "steps = 100\n",
    "for i in range(steps):\n",
    "    result = step(data)\n",
    "    \n",
    "    data = result[0]\n",
    "    flashes += result[1]"
   ]
  },
  {
   "cell_type": "code",
   "execution_count": 6,
   "id": "65f09b5c",
   "metadata": {},
   "outputs": [
    {
     "name": "stdout",
     "output_type": "stream",
     "text": [
      "1608\n"
     ]
    }
   ],
   "source": [
    "print(flashes)"
   ]
  }
 ],
 "metadata": {
  "kernelspec": {
   "display_name": "Python 3",
   "language": "python",
   "name": "python3"
  },
  "language_info": {
   "codemirror_mode": {
    "name": "ipython",
    "version": 3
   },
   "file_extension": ".py",
   "mimetype": "text/x-python",
   "name": "python",
   "nbconvert_exporter": "python",
   "pygments_lexer": "ipython3",
   "version": "3.7.4"
  }
 },
 "nbformat": 4,
 "nbformat_minor": 5
}

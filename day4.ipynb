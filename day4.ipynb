{
 "cells": [
  {
   "cell_type": "markdown",
   "id": "6bd09921",
   "metadata": {},
   "source": [
    "# --- Day 4: Giant Squid ---\n",
    "Advent of Code 2021"
   ]
  },
  {
   "cell_type": "markdown",
   "id": "dee85332",
   "metadata": {},
   "source": [
    "## Part 1"
   ]
  },
  {
   "cell_type": "code",
   "execution_count": 1,
   "id": "b3794cfa",
   "metadata": {},
   "outputs": [],
   "source": [
    "with open(\"input/day4.txt\") as f:\n",
    "    data = f.readlines()"
   ]
  },
  {
   "cell_type": "code",
   "execution_count": 2,
   "id": "51b48021",
   "metadata": {
    "scrolled": true
   },
   "outputs": [],
   "source": [
    "draw = [int(item) for item in data[0].split(\",\")]"
   ]
  },
  {
   "cell_type": "code",
   "execution_count": 3,
   "id": "40f040ba",
   "metadata": {},
   "outputs": [],
   "source": [
    "boards = [line.split() for line in data[1:] if line != \"\\n\"]\n",
    "boards = [boards[i:i+5] for i in range(0, len(boards), 5)]\n",
    "boards = [[[int(item) for item in row] for row in board] for board in boards]"
   ]
  },
  {
   "cell_type": "code",
   "execution_count": 4,
   "id": "ed863008",
   "metadata": {},
   "outputs": [],
   "source": [
    "def get_board_columns(board):\n",
    "    return [[row[i] for row in board] for i in range(5)]"
   ]
  },
  {
   "cell_type": "code",
   "execution_count": 5,
   "id": "6e25228f",
   "metadata": {},
   "outputs": [],
   "source": [
    "def check_win(board, seq):\n",
    "    for row in board:\n",
    "        if set(row).issubset(seq):\n",
    "            return True\n",
    "        \n",
    "    board_cols = get_board_columns(board)\n",
    "    for col in board_cols:\n",
    "        if set(col).issubset(seq):\n",
    "            return True\n",
    "    return False"
   ]
  },
  {
   "cell_type": "code",
   "execution_count": 6,
   "id": "ed218f20",
   "metadata": {},
   "outputs": [],
   "source": [
    "winner = -999\n",
    "\n",
    "for d in range(5,len(draw)+1):\n",
    "    current_draw = draw[:d]\n",
    "    \n",
    "    for i,board in enumerate(boards):\n",
    "        if check_win(board, current_draw):\n",
    "            winner = i\n",
    "            # break\n",
    "    \n",
    "    if winner>0:\n",
    "        break"
   ]
  },
  {
   "cell_type": "code",
   "execution_count": 7,
   "id": "075f03fa",
   "metadata": {},
   "outputs": [],
   "source": [
    "sum_unmarked = sum([num for num in [item for row in boards[winner] for item in row] if num not in current_draw])\n",
    "result = sum_unmarked * current_draw[-1]"
   ]
  },
  {
   "cell_type": "code",
   "execution_count": 8,
   "id": "fdea7607",
   "metadata": {
    "scrolled": true
   },
   "outputs": [
    {
     "data": {
      "text/plain": [
       "67716"
      ]
     },
     "execution_count": 8,
     "metadata": {},
     "output_type": "execute_result"
    }
   ],
   "source": [
    "result"
   ]
  },
  {
   "cell_type": "code",
   "execution_count": 9,
   "id": "db6b7d04",
   "metadata": {},
   "outputs": [
    {
     "data": {
      "text/plain": [
       "66"
      ]
     },
     "execution_count": 9,
     "metadata": {},
     "output_type": "execute_result"
    }
   ],
   "source": [
    "winner"
   ]
  },
  {
   "cell_type": "markdown",
   "id": "2975ea74",
   "metadata": {},
   "source": [
    "## Part 2"
   ]
  },
  {
   "cell_type": "markdown",
   "id": "b56c3a6e",
   "metadata": {},
   "source": [
    "# TEST\n",
    "\n",
    "```python\n",
    "draw = [7,4,9,5,11,17,23,2,0,14,21,24,10,16,13,6,15,25,12,22,18,20,8,19,3,26,1]\n",
    "\n",
    "boards = [[[22, 13, 17, 11, 0],\n",
    "  [8, 2, 23, 4, 24],\n",
    "  [21, 9, 14, 16, 7],\n",
    "  [6, 10, 3, 18, 5],\n",
    "  [1, 12, 20, 15, 19]],\n",
    " [[3, 15, 0, 2, 22],\n",
    "  [9, 18, 13, 17, 5],\n",
    "  [19, 8, 7, 25, 23],\n",
    "  [20, 11, 10, 24, 4],\n",
    "  [14, 21, 16, 12, 6]],\n",
    " [[14, 21, 17, 24, 4],\n",
    "  [10, 16, 15, 9, 19],\n",
    "  [18, 8, 23, 26, 20],\n",
    "  [22, 11, 13, 6, 5],\n",
    "  [2, 0, 12, 3, 7]]]\n",
    "```"
   ]
  },
  {
   "cell_type": "code",
   "execution_count": 10,
   "id": "ef67e856",
   "metadata": {},
   "outputs": [],
   "source": [
    "prev_winners = []\n",
    "prev_draws = []\n",
    "\n",
    "for d in range(5,len(draw)+1):\n",
    "    current_draw = draw[:d]\n",
    "    \n",
    "    for i,board in enumerate(boards):\n",
    "        if i not in prev_winners:\n",
    "            if check_win(board, current_draw):\n",
    "                prev_winners.append(i)\n",
    "                prev_draws.append(current_draw)"
   ]
  },
  {
   "cell_type": "code",
   "execution_count": 11,
   "id": "9922d531",
   "metadata": {},
   "outputs": [],
   "source": [
    "last_to_win = prev_winners[-1]\n",
    "last_draw = prev_draws[-1]"
   ]
  },
  {
   "cell_type": "code",
   "execution_count": 12,
   "id": "7d84a447",
   "metadata": {},
   "outputs": [],
   "source": [
    "sum_unmarked = sum([num for num in [item for row in boards[last_to_win] for item in row] if num not in last_draw])\n",
    "result = sum_unmarked * last_draw[-1]"
   ]
  },
  {
   "cell_type": "code",
   "execution_count": 13,
   "id": "12f4d171",
   "metadata": {
    "scrolled": true
   },
   "outputs": [
    {
     "data": {
      "text/plain": [
       "1830"
      ]
     },
     "execution_count": 13,
     "metadata": {},
     "output_type": "execute_result"
    }
   ],
   "source": [
    "result"
   ]
  }
 ],
 "metadata": {
  "kernelspec": {
   "display_name": "Python 3",
   "language": "python",
   "name": "python3"
  },
  "language_info": {
   "codemirror_mode": {
    "name": "ipython",
    "version": 3
   },
   "file_extension": ".py",
   "mimetype": "text/x-python",
   "name": "python",
   "nbconvert_exporter": "python",
   "pygments_lexer": "ipython3",
   "version": "3.7.4"
  }
 },
 "nbformat": 4,
 "nbformat_minor": 5
}

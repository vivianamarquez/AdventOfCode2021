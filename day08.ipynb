{
 "cells": [
  {
   "cell_type": "markdown",
   "id": "6bd09921",
   "metadata": {},
   "source": [
    "# --- Day 8: Seven Segment Search ---\n",
    "Advent of Code 2021"
   ]
  },
  {
   "cell_type": "markdown",
   "id": "0e466a21",
   "metadata": {},
   "source": [
    "```\n",
    "0:      1:      2:      3:      4:\n",
    " aaaa    ....    aaaa    aaaa    ....\n",
    "b    c  .    c  .    c  .    c  b    c\n",
    "b    c  .    c  .    c  .    c  b    c\n",
    " ....    ....    dddd    dddd    dddd\n",
    "e    f  .    f  e    .  .    f  .    f\n",
    "e    f  .    f  e    .  .    f  .    f\n",
    " gggg    ....    gggg    gggg    ....\n",
    "\n",
    "  5:      6:      7:      8:      9:\n",
    " aaaa    aaaa    aaaa    aaaa    aaaa\n",
    "b    .  b    .  .    c  b    c  b    c\n",
    "b    .  b    .  .    c  b    c  b    c\n",
    " dddd    dddd    ....    dddd    dddd\n",
    ".    f  e    f  .    f  e    f  .    f\n",
    ".    f  e    f  .    f  e    f  .    f\n",
    " gggg    gggg    ....    gggg    gggg\n",
    " ```"
   ]
  },
  {
   "cell_type": "code",
   "execution_count": 1,
   "id": "0983a290",
   "metadata": {},
   "outputs": [],
   "source": [
    "seven_segment = {\n",
    "    0: 'abcefg',\n",
    "    1: 'cf',\n",
    "    2: 'acdeg',\n",
    "    3: 'acdfg',\n",
    "    4: 'bcdf',\n",
    "    5: 'abdfg',\n",
    "    6: 'abdefg',\n",
    "    7: 'acf',\n",
    "    8: 'abcdefg',\n",
    "    9: 'abcdfg'\n",
    "}"
   ]
  },
  {
   "cell_type": "code",
   "execution_count": 2,
   "id": "d5f2d1af",
   "metadata": {},
   "outputs": [
    {
     "name": "stdout",
     "output_type": "stream",
     "text": [
      "0\tSegment lenght: 6\n",
      "1\tSegment lenght: 2\n",
      "2\tSegment lenght: 5\n",
      "3\tSegment lenght: 5\n",
      "4\tSegment lenght: 4\n",
      "5\tSegment lenght: 5\n",
      "6\tSegment lenght: 6\n",
      "7\tSegment lenght: 3\n",
      "8\tSegment lenght: 7\n",
      "9\tSegment lenght: 6\n"
     ]
    }
   ],
   "source": [
    "for num,seg in seven_segment.items():\n",
    "    print(f\"{num}\\tSegment lenght: {len(seg)}\")"
   ]
  },
  {
   "cell_type": "markdown",
   "id": "4a0c127a",
   "metadata": {},
   "source": [
    "1 (2), 4 (4), 7 (3), and 8 (7) each use a unique number of segments\n",
    "\n",
    "- Length 7: 8\n",
    "- Length 6: 9, 6, 0\n",
    "- Length 5: 5, 3, 2\n",
    "- Length 4: 4\n",
    "- Length 3: 7\n",
    "- Length 2: 1"
   ]
  },
  {
   "cell_type": "markdown",
   "id": "dee85332",
   "metadata": {},
   "source": [
    "## Part 1"
   ]
  },
  {
   "cell_type": "code",
   "execution_count": 3,
   "id": "63233ecf",
   "metadata": {},
   "outputs": [],
   "source": [
    "from collections import Counter"
   ]
  },
  {
   "cell_type": "code",
   "execution_count": 4,
   "id": "0950363f",
   "metadata": {},
   "outputs": [],
   "source": [
    "with open(\"input/day8.txt\") as f:\n",
    "    data = f.readlines()"
   ]
  },
  {
   "cell_type": "code",
   "execution_count": 5,
   "id": "135218d1",
   "metadata": {},
   "outputs": [],
   "source": [
    "len_digit_cnt = Counter([len(digit) for digit in sum([line.split(\"|\")[1].split() for line in data],[])])"
   ]
  },
  {
   "cell_type": "code",
   "execution_count": 6,
   "id": "83ae4e47",
   "metadata": {},
   "outputs": [],
   "source": [
    "result = 0\n",
    "for i in [2,4,3,7]:\n",
    "    result += len_digit_cnt[i]"
   ]
  },
  {
   "cell_type": "code",
   "execution_count": 7,
   "id": "711003b3",
   "metadata": {},
   "outputs": [],
   "source": [
    "# result"
   ]
  },
  {
   "cell_type": "markdown",
   "id": "83fe73d8",
   "metadata": {},
   "source": [
    "## Part 2"
   ]
  },
  {
   "cell_type": "markdown",
   "id": "7559548b",
   "metadata": {},
   "source": [
    "```\n",
    "0:      1:      2:      3:      4:\n",
    " aaaa    ....    aaaa    aaaa    ....\n",
    "b    c  .    c  .    c  .    c  b    c\n",
    "b    c  .    c  .    c  .    c  b    c\n",
    " ....    ....    dddd    dddd    dddd\n",
    "e    f  .    f  e    .  .    f  .    f\n",
    "e    f  .    f  e    .  .    f  .    f\n",
    " gggg    ....    gggg    gggg    ....\n",
    "\n",
    "  5:      6:      7:      8:      9:\n",
    " aaaa    aaaa    aaaa    aaaa    aaaa\n",
    "b    .  b    .  .    c  b    c  b    c\n",
    "b    .  b    .  .    c  b    c  b    c\n",
    " dddd    dddd    ....    dddd    dddd\n",
    ".    f  e    f  .    f  e    f  .    f\n",
    ".    f  e    f  .    f  e    f  .    f\n",
    " gggg    gggg    ....    gggg    gggg\n",
    " ```"
   ]
  },
  {
   "cell_type": "markdown",
   "id": "afb52ce3",
   "metadata": {},
   "source": [
    "#### How to deduce each number:\n",
    "- 0: Take 4, remove items from 1. 0 will be of length six with only one of the two remaining items from 4. (1)\n",
    "- 1: **Length 2**\n",
    "- 2: Left over (6)\n",
    "- 3: Includes 1, length five (4)\n",
    "- 4: **Length 4**\n",
    "- 5: Included in 6 (5)\n",
    "- 6: Length six that is not 0 or 9 (3)\n",
    "- 7: **Length 3**\n",
    "- 8: **Length 7**\n",
    "- 9: Includes all items from 4 and 7, length six (2)"
   ]
  },
  {
   "cell_type": "code",
   "execution_count": 8,
   "id": "574c4667",
   "metadata": {},
   "outputs": [],
   "source": [
    "def get_output(line):\n",
    "    line, four_digits = line.split(\"|\")\n",
    "    \n",
    "    line = line.split()\n",
    "    line = [''.join(sorted(segment)) for segment in line]\n",
    "    \n",
    "    four_digits = four_digits.split()\n",
    "    four_digits = [''.join(sorted(segment)) for segment in four_digits]\n",
    "    \n",
    "    mapping = {\n",
    "    0: None,\n",
    "    1: None,\n",
    "    2: None,\n",
    "    3: None,\n",
    "    4: None,\n",
    "    5: None,\n",
    "    6: None,\n",
    "    7: None,\n",
    "    8: None,\n",
    "    9: None\n",
    "    }\n",
    "    \n",
    "    # MAPPINGS\n",
    "    \n",
    "    mapping[1] = [segment for segment in line if len(segment)==2][0]\n",
    "    mapping[4] = [segment for segment in line if len(segment)==4][0]\n",
    "    mapping[7] = [segment for segment in line if len(segment)==3][0]\n",
    "    mapping[8] = [segment for segment in line if len(segment)==7][0]\n",
    "    \n",
    "    segments_len_6 = [seg for seg in line if len(seg)==6]\n",
    "    segments_len_5 = [seg for seg in line if len(seg)==5]\n",
    "    \n",
    "    fournotone = [l for l in mapping[4] if l not in mapping[1]]\n",
    "    mapping[0] = [s for s in segments_len_6 if not set(fournotone).issubset(s)][0]\n",
    "    segments_len_6.remove(mapping[0])\n",
    "    \n",
    "    mapping[9] = [seg for seg in segments_len_6 if set(mapping[4] + mapping[7]).issubset(seg)][0]\n",
    "    segments_len_6.remove(mapping[9])\n",
    "    \n",
    "    mapping[6] = segments_len_6[0]\n",
    "    \n",
    "    mapping[3] = [seg for seg in segments_len_5 if set(mapping[1]).issubset(seg)][0]\n",
    "    segments_len_5.remove(mapping[3])\n",
    "    \n",
    "    mapping[5] = [seg for seg in segments_len_5 if set(seg).issubset(mapping[6])][0]\n",
    "    segments_len_5.remove(mapping[5])\n",
    "    \n",
    "    mapping[2] = segments_len_5[0]\n",
    "    \n",
    "    \n",
    "    # Result\n",
    "    mapping = dict((v,k) for k,v in mapping.items())\n",
    "    result = int(\"\".join([str(mapping[seg]) for seg in four_digits]))\n",
    "    \n",
    "    return result"
   ]
  },
  {
   "cell_type": "code",
   "execution_count": 9,
   "id": "a53e678e",
   "metadata": {},
   "outputs": [],
   "source": [
    "result = sum([get_output(line) for line in data])"
   ]
  },
  {
   "cell_type": "code",
   "execution_count": 11,
   "id": "be59d9ff",
   "metadata": {},
   "outputs": [],
   "source": [
    "# result"
   ]
  }
 ],
 "metadata": {
  "kernelspec": {
   "display_name": "Python 3",
   "language": "python",
   "name": "python3"
  },
  "language_info": {
   "codemirror_mode": {
    "name": "ipython",
    "version": 3
   },
   "file_extension": ".py",
   "mimetype": "text/x-python",
   "name": "python",
   "nbconvert_exporter": "python",
   "pygments_lexer": "ipython3",
   "version": "3.7.4"
  }
 },
 "nbformat": 4,
 "nbformat_minor": 5
}

{
 "cells": [
  {
   "cell_type": "markdown",
   "id": "ee5c69db",
   "metadata": {},
   "source": [
    "# --- Day 10: Syntax Scoring ---\n",
    "Advent of Code 2021"
   ]
  },
  {
   "cell_type": "markdown",
   "id": "a647d13a",
   "metadata": {},
   "source": [
    "## Part 1"
   ]
  },
  {
   "cell_type": "code",
   "execution_count": 1,
   "id": "115c69b5",
   "metadata": {},
   "outputs": [],
   "source": [
    "import re\n",
    "from collections import Counter"
   ]
  },
  {
   "cell_type": "code",
   "execution_count": 2,
   "id": "1df77d41",
   "metadata": {},
   "outputs": [],
   "source": [
    "with open(\"input/day10.txt\") as f:\n",
    "    data = f.readlines()"
   ]
  },
  {
   "cell_type": "code",
   "execution_count": 3,
   "id": "e6803c2a",
   "metadata": {},
   "outputs": [],
   "source": [
    "data = [line.strip() for line in data]"
   ]
  },
  {
   "cell_type": "markdown",
   "id": "c6673b2a",
   "metadata": {},
   "source": [
    "## { } ( ) [ ] < >"
   ]
  },
  {
   "cell_type": "code",
   "execution_count": 4,
   "id": "d0c93982",
   "metadata": {},
   "outputs": [],
   "source": [
    "test_data = '''\n",
    "[({(<(())[]>[[{[]{<()<>>\n",
    "[(()[<>])]({[<{<<[]>>(\n",
    "{([(<{}[<>[]}>{[]{[(<()>\n",
    "(((({<>}<{<{<>}{[]{[]{}\n",
    "[[<[([]))<([[{}[[()]]]\n",
    "[{[{({}]{}}([{[{{{}}([]\n",
    "{<[[]]>}<{[{[{[]{()[[[]\n",
    "[<(<(<(<{}))><([]([]()\n",
    "<{([([[(<>()){}]>(<<{{\n",
    "<{([{{}}[<[[[<>{}]]]>[]]\n",
    "'''\n",
    "\n",
    "test_data = test_data.split()\n",
    "\n",
    "corrupt = [\"{([(<{}[<>[]}>{[]{[(<()>\",\n",
    "           \"[[<[([]))<([[{}[[()]]]\",\n",
    "           \"[{[{({}]{}}([{[{{{}}([]\",\n",
    "           \"[<(<(<(<{}))><([]([]()\",\n",
    "           \"<{([([[(<>()){}]>(<<{{\"]"
   ]
  },
  {
   "cell_type": "code",
   "execution_count": 5,
   "id": "61a1e541",
   "metadata": {},
   "outputs": [],
   "source": [
    "def is_corrupt(line):\n",
    "    proper_chars = [\"[]\", \"{}\", \"<>\", \"()\"]\n",
    "    \n",
    "    while any(x in line for x in proper_chars):\n",
    "        for char in proper_chars:\n",
    "            line = line.replace(char, \"\")\n",
    "            \n",
    "    found = re.sub('[^\\]}>)]', '', line)\n",
    "    if len(found) == 0:\n",
    "        return False\n",
    "    else:\n",
    "        return found[0]"
   ]
  },
  {
   "cell_type": "code",
   "execution_count": 6,
   "id": "e8dfbd17",
   "metadata": {},
   "outputs": [
    {
     "name": "stdout",
     "output_type": "stream",
     "text": [
      "My result False -- Actual result: False\n",
      "My result False -- Actual result: False\n",
      "My result } -- Actual result: True\n",
      "My result False -- Actual result: False\n",
      "My result ) -- Actual result: True\n",
      "My result ] -- Actual result: True\n",
      "My result False -- Actual result: False\n",
      "My result ) -- Actual result: True\n",
      "My result > -- Actual result: True\n",
      "My result False -- Actual result: False\n"
     ]
    }
   ],
   "source": [
    "for line in test_data:\n",
    "    print(f\"My result {is_corrupt(line)} -- Actual result: {line in corrupt}\")"
   ]
  },
  {
   "cell_type": "markdown",
   "id": "78eb1469",
   "metadata": {},
   "source": [
    "#### Solution applied to actual problem"
   ]
  },
  {
   "cell_type": "code",
   "execution_count": 7,
   "id": "b6f699bf",
   "metadata": {},
   "outputs": [],
   "source": [
    "points = {\n",
    "    ')': 3,\n",
    "    ']': 57,\n",
    "    '}': 1197,\n",
    "    '>': 25137\n",
    "}"
   ]
  },
  {
   "cell_type": "code",
   "execution_count": 8,
   "id": "f4bb915a",
   "metadata": {},
   "outputs": [],
   "source": [
    "count = Counter([is_corrupt(line) for line in data])"
   ]
  },
  {
   "cell_type": "code",
   "execution_count": 9,
   "id": "845b11e1",
   "metadata": {},
   "outputs": [],
   "source": [
    "result = 0\n",
    "for char in \">)]}\":\n",
    "    result += points[char] * count[char]"
   ]
  },
  {
   "cell_type": "code",
   "execution_count": 10,
   "id": "0c46d248",
   "metadata": {},
   "outputs": [],
   "source": [
    "# result"
   ]
  },
  {
   "cell_type": "markdown",
   "id": "fa04264c",
   "metadata": {},
   "source": [
    "## Part 2"
   ]
  },
  {
   "cell_type": "code",
   "execution_count": 11,
   "id": "e86c5c26",
   "metadata": {},
   "outputs": [],
   "source": [
    "incomplete = [line for line in data if not is_corrupt(line)]"
   ]
  },
  {
   "cell_type": "code",
   "execution_count": 12,
   "id": "991963ce",
   "metadata": {},
   "outputs": [],
   "source": [
    "def autocomplete(line):\n",
    "    proper_chars = [\"[]\", \"{}\", \"<>\", \"()\"]\n",
    "    \n",
    "    while any(x in line for x in proper_chars):\n",
    "        for char in proper_chars:\n",
    "            line = line.replace(char, \"\")\n",
    "            \n",
    "    line = line[::-1]\n",
    "    line = line.replace(\"[\", \"]\").replace(\"{\", \"}\").replace(\"<\", \">\").replace(\"(\", \")\")\n",
    "    \n",
    "    return line"
   ]
  },
  {
   "cell_type": "code",
   "execution_count": 13,
   "id": "9320de9b",
   "metadata": {},
   "outputs": [],
   "source": [
    "def autocomplete_score(line):\n",
    "    points_inc = {\n",
    "    ')': 1,\n",
    "    ']': 2,\n",
    "    '}': 3,\n",
    "    '>': 4\n",
    "    }\n",
    "    \n",
    "    score = 0\n",
    "    \n",
    "    for char in line:\n",
    "        score = (score * 5) + points_inc[char]\n",
    "        \n",
    "    return score"
   ]
  },
  {
   "cell_type": "code",
   "execution_count": 14,
   "id": "fd4de3e3",
   "metadata": {},
   "outputs": [],
   "source": [
    "scores = [autocomplete_score(autocomplete(line)) for line in incomplete]"
   ]
  },
  {
   "cell_type": "code",
   "execution_count": 15,
   "id": "ce38940b",
   "metadata": {},
   "outputs": [],
   "source": [
    "scores = sorted(scores)\n",
    "result = scores[int(len(scores)/2)]"
   ]
  },
  {
   "cell_type": "code",
   "execution_count": 16,
   "id": "3349f089",
   "metadata": {},
   "outputs": [],
   "source": [
    "# result"
   ]
  }
 ],
 "metadata": {
  "kernelspec": {
   "display_name": "Python 3",
   "language": "python",
   "name": "python3"
  },
  "language_info": {
   "codemirror_mode": {
    "name": "ipython",
    "version": 3
   },
   "file_extension": ".py",
   "mimetype": "text/x-python",
   "name": "python",
   "nbconvert_exporter": "python",
   "pygments_lexer": "ipython3",
   "version": "3.7.4"
  }
 },
 "nbformat": 4,
 "nbformat_minor": 5
}

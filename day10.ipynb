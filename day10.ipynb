{
 "cells": [
  {
   "cell_type": "markdown",
   "id": "15ba9b0a",
   "metadata": {},
   "source": [
    "# --- Day 10: Syntax Scoring ---\n",
    "Advent of Code 2021"
   ]
  },
  {
   "cell_type": "code",
   "execution_count": 1,
   "id": "2b04f214",
   "metadata": {},
   "outputs": [],
   "source": [
    "import re\n",
    "from collections import Counter"
   ]
  },
  {
   "cell_type": "code",
   "execution_count": 2,
   "id": "f65b0786",
   "metadata": {},
   "outputs": [],
   "source": [
    "with open(\"input/day10.txt\") as f:\n",
    "    data = f.readlines()"
   ]
  },
  {
   "cell_type": "code",
   "execution_count": 3,
   "id": "2f64c538",
   "metadata": {},
   "outputs": [],
   "source": [
    "data = [line.strip() for line in data]"
   ]
  },
  {
   "cell_type": "markdown",
   "id": "e12dbb65",
   "metadata": {},
   "source": [
    "## { } ( ) [ ] < >"
   ]
  },
  {
   "cell_type": "code",
   "execution_count": 4,
   "id": "8fb959f3",
   "metadata": {},
   "outputs": [],
   "source": [
    "test_data = '''\n",
    "[({(<(())[]>[[{[]{<()<>>\n",
    "[(()[<>])]({[<{<<[]>>(\n",
    "{([(<{}[<>[]}>{[]{[(<()>\n",
    "(((({<>}<{<{<>}{[]{[]{}\n",
    "[[<[([]))<([[{}[[()]]]\n",
    "[{[{({}]{}}([{[{{{}}([]\n",
    "{<[[]]>}<{[{[{[]{()[[[]\n",
    "[<(<(<(<{}))><([]([]()\n",
    "<{([([[(<>()){}]>(<<{{\n",
    "<{([{{}}[<[[[<>{}]]]>[]]\n",
    "'''\n",
    "\n",
    "test_data = test_data.split()\n",
    "\n",
    "corrupt = [\"{([(<{}[<>[]}>{[]{[(<()>\",\n",
    "           \"[[<[([]))<([[{}[[()]]]\",\n",
    "           \"[{[{({}]{}}([{[{{{}}([]\",\n",
    "           \"[<(<(<(<{}))><([]([]()\",\n",
    "           \"<{([([[(<>()){}]>(<<{{\"]"
   ]
  },
  {
   "cell_type": "code",
   "execution_count": 5,
   "id": "1ff3e149",
   "metadata": {},
   "outputs": [],
   "source": [
    "def is_corrupt(line):\n",
    "    proper_chars = [\"[]\", \"{}\", \"<>\", \"()\"]\n",
    "    \n",
    "    while any(x in line for x in proper_chars):\n",
    "        for char in proper_chars:\n",
    "            line = line.replace(char, \"\")\n",
    "            \n",
    "    found = re.sub('[^\\]}>)]', '', line)\n",
    "    if len(found) == 0:\n",
    "        return None\n",
    "    else:\n",
    "        return found[0]"
   ]
  },
  {
   "cell_type": "code",
   "execution_count": 6,
   "id": "988f0626",
   "metadata": {},
   "outputs": [
    {
     "name": "stdout",
     "output_type": "stream",
     "text": [
      "My result None -- Actual result: False\n",
      "My result None -- Actual result: False\n",
      "My result } -- Actual result: True\n",
      "My result None -- Actual result: False\n",
      "My result ) -- Actual result: True\n",
      "My result ] -- Actual result: True\n",
      "My result None -- Actual result: False\n",
      "My result ) -- Actual result: True\n",
      "My result > -- Actual result: True\n",
      "My result None -- Actual result: False\n"
     ]
    }
   ],
   "source": [
    "for line in test_data:\n",
    "    print(f\"My result {is_corrupt(line)} -- Actual result: {line in corrupt}\")"
   ]
  },
  {
   "cell_type": "markdown",
   "id": "425e672e",
   "metadata": {},
   "source": [
    "### Solution applied to actual problem"
   ]
  },
  {
   "cell_type": "code",
   "execution_count": 7,
   "id": "7ea10bac",
   "metadata": {},
   "outputs": [],
   "source": [
    "points = {\n",
    "    ')': 3,\n",
    "    ']': 57,\n",
    "    '}': 1197,\n",
    "    '>': 25137\n",
    "}"
   ]
  },
  {
   "cell_type": "code",
   "execution_count": 8,
   "id": "047947f1",
   "metadata": {},
   "outputs": [],
   "source": [
    "count = Counter([is_corrupt(line) for line in data])"
   ]
  },
  {
   "cell_type": "code",
   "execution_count": 9,
   "id": "81313463",
   "metadata": {},
   "outputs": [],
   "source": [
    "result = 0\n",
    "for char in \">)]}\":\n",
    "    result += points[char] * count[char]"
   ]
  },
  {
   "cell_type": "code",
   "execution_count": 10,
   "id": "46da6081",
   "metadata": {},
   "outputs": [
    {
     "data": {
      "text/plain": [
       "318099"
      ]
     },
     "execution_count": 10,
     "metadata": {},
     "output_type": "execute_result"
    }
   ],
   "source": [
    "result"
   ]
  },
  {
   "cell_type": "code",
   "execution_count": null,
   "id": "207cfc53",
   "metadata": {},
   "outputs": [],
   "source": []
  }
 ],
 "metadata": {
  "kernelspec": {
   "display_name": "Python 3",
   "language": "python",
   "name": "python3"
  },
  "language_info": {
   "codemirror_mode": {
    "name": "ipython",
    "version": 3
   },
   "file_extension": ".py",
   "mimetype": "text/x-python",
   "name": "python",
   "nbconvert_exporter": "python",
   "pygments_lexer": "ipython3",
   "version": "3.7.4"
  }
 },
 "nbformat": 4,
 "nbformat_minor": 5
}

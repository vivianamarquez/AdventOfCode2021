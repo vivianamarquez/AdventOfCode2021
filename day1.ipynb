{
 "cells": [
  {
   "cell_type": "markdown",
   "id": "6bd09921",
   "metadata": {},
   "source": [
    "# --- Day 1: Sonar Sweep ---\n",
    "Advent of Code 2021"
   ]
  },
  {
   "cell_type": "markdown",
   "id": "dee85332",
   "metadata": {},
   "source": [
    "## Part 1"
   ]
  },
  {
   "cell_type": "code",
   "execution_count": 1,
   "id": "d9e11a35",
   "metadata": {},
   "outputs": [],
   "source": [
    "with open (\"input/day1.txt\") as f:\n",
    "    data = f.readlines()"
   ]
  },
  {
   "cell_type": "code",
   "execution_count": 2,
   "id": "62b5ad63",
   "metadata": {},
   "outputs": [],
   "source": [
    "data = [int(number) for number in data]"
   ]
  },
  {
   "cell_type": "code",
   "execution_count": 3,
   "id": "c6f247dc",
   "metadata": {},
   "outputs": [],
   "source": [
    "increased = 0\n",
    "\n",
    "for i in range(1,len(data)):\n",
    "    # print(f\"Depth measurement #{i}\")\n",
    "    # print(f\"{data[i-1]} --> {data[i]}\")\n",
    "    if data[i] - data[i-1] > 0:\n",
    "        # print(\"(increased)\")\n",
    "        increased += 1\n",
    "    elif data[i] - data[i-1] < 0:\n",
    "        pass\n",
    "        # print(\"(decreased)\")\n",
    "    else:\n",
    "        pass\n",
    "        # print(\"(no change)\")\n",
    "    # print()"
   ]
  },
  {
   "cell_type": "code",
   "execution_count": 4,
   "id": "5278c9c4",
   "metadata": {},
   "outputs": [],
   "source": [
    "# print(f\"There are {increased} measurements that are larger than the previous measurement.\")"
   ]
  },
  {
   "cell_type": "markdown",
   "id": "2042eaee",
   "metadata": {},
   "source": [
    "## Part 2"
   ]
  },
  {
   "cell_type": "code",
   "execution_count": 5,
   "id": "47ae1ac1",
   "metadata": {},
   "outputs": [],
   "source": [
    "window_size = 3\n",
    "new_data = []\n",
    "\n",
    "for i in range(len(data) - window_size + 1):\n",
    "    new_data.append(data[i: i + window_size])"
   ]
  },
  {
   "cell_type": "code",
   "execution_count": 6,
   "id": "994eb7db",
   "metadata": {},
   "outputs": [],
   "source": [
    "new_data = [sum(window) for window in new_data]\n",
    "\n",
    "increased = 0\n",
    "\n",
    "for i in range(1,len(new_data)):\n",
    "    # print(f\"Depth measurement #{i}\")\n",
    "    # print(f\"{new_data[i-1]} --> {new_data[i]}\")\n",
    "    if new_data[i] - new_data[i-1] > 0:\n",
    "        # print(\"(increased)\")\n",
    "        increased += 1\n",
    "    elif new_data[i] - new_data[i-1] < 0:\n",
    "        pass\n",
    "        # print(\"(decreased)\")\n",
    "    else:\n",
    "        pass\n",
    "        # print(\"(no change)\")\n",
    "    # print()"
   ]
  },
  {
   "cell_type": "code",
   "execution_count": 7,
   "id": "4be2cfd7",
   "metadata": {},
   "outputs": [],
   "source": [
    "# print(f\"There are {increased} sums that are larger than the previous sum.\")"
   ]
  }
 ],
 "metadata": {
  "kernelspec": {
   "display_name": "Python 3",
   "language": "python",
   "name": "python3"
  },
  "language_info": {
   "codemirror_mode": {
    "name": "ipython",
    "version": 3
   },
   "file_extension": ".py",
   "mimetype": "text/x-python",
   "name": "python",
   "nbconvert_exporter": "python",
   "pygments_lexer": "ipython3",
   "version": "3.7.4"
  }
 },
 "nbformat": 4,
 "nbformat_minor": 5
}

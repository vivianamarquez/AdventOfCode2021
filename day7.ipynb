{
 "cells": [
  {
   "cell_type": "markdown",
   "id": "6bd09921",
   "metadata": {},
   "source": [
    "# --- Day 7: The Treachery of Whales ---\n",
    "Advent of Code 2021"
   ]
  },
  {
   "cell_type": "markdown",
   "id": "dee85332",
   "metadata": {},
   "source": [
    "## Part 1"
   ]
  },
  {
   "cell_type": "code",
   "execution_count": 1,
   "id": "343c30d3",
   "metadata": {},
   "outputs": [],
   "source": [
    "with open(\"input/day7.txt\") as f:\n",
    "    data = f.read()"
   ]
  },
  {
   "cell_type": "code",
   "execution_count": 2,
   "id": "201b5bd8",
   "metadata": {},
   "outputs": [],
   "source": [
    "data = [int(crab) for crab in data.split(\",\")]"
   ]
  },
  {
   "cell_type": "code",
   "execution_count": 3,
   "id": "90b4c6bc",
   "metadata": {},
   "outputs": [],
   "source": [
    "fuel = min([sum([abs(fuel-crab) for crab in data]) for fuel in range(max(data)+1)])"
   ]
  },
  {
   "cell_type": "code",
   "execution_count": 4,
   "id": "d706b93d",
   "metadata": {},
   "outputs": [],
   "source": [
    "# print(f\"How much fuel must they spend to align to that position? {fuel}\")"
   ]
  }
 ],
 "metadata": {
  "kernelspec": {
   "display_name": "Python 3",
   "language": "python",
   "name": "python3"
  },
  "language_info": {
   "codemirror_mode": {
    "name": "ipython",
    "version": 3
   },
   "file_extension": ".py",
   "mimetype": "text/x-python",
   "name": "python",
   "nbconvert_exporter": "python",
   "pygments_lexer": "ipython3",
   "version": "3.7.4"
  }
 },
 "nbformat": 4,
 "nbformat_minor": 5
}

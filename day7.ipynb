{
 "cells": [
  {
   "cell_type": "markdown",
   "id": "6bd09921",
   "metadata": {},
   "source": [
    "# --- Day 7: The Treachery of Whales ---\n",
    "Advent of Code 2021"
   ]
  },
  {
   "cell_type": "markdown",
   "id": "dee85332",
   "metadata": {},
   "source": [
    "## Part 1"
   ]
  },
  {
   "cell_type": "code",
   "execution_count": 1,
   "id": "059c7376",
   "metadata": {},
   "outputs": [],
   "source": [
    "with open(\"input/day7.txt\") as f:\n",
    "    data = f.read()"
   ]
  },
  {
   "cell_type": "code",
   "execution_count": 2,
   "id": "05d9bb77",
   "metadata": {},
   "outputs": [],
   "source": [
    "data = [int(crab) for crab in data.split(\",\")]"
   ]
  },
  {
   "cell_type": "code",
   "execution_count": 3,
   "id": "3539c6a5",
   "metadata": {},
   "outputs": [],
   "source": [
    "fuel = min([sum([abs(fuel-crab) for crab in data]) for fuel in range(max(data)+1)])"
   ]
  },
  {
   "cell_type": "code",
   "execution_count": 4,
   "id": "4c39d634",
   "metadata": {},
   "outputs": [],
   "source": [
    "# print(f\"How much fuel must they spend to align to that position? {fuel}\")"
   ]
  },
  {
   "cell_type": "markdown",
   "id": "10929153",
   "metadata": {},
   "source": [
    "## Part 2"
   ]
  },
  {
   "cell_type": "code",
   "execution_count": 5,
   "id": "0f33c4b2",
   "metadata": {},
   "outputs": [],
   "source": [
    "def gauss(n):\n",
    "    return ((n)*(n+1))/2"
   ]
  },
  {
   "cell_type": "code",
   "execution_count": 6,
   "id": "463d14de",
   "metadata": {},
   "outputs": [],
   "source": [
    "fuel = min([sum([gauss(abs(fuel-crab)) for crab in data]) for fuel in range(max(data)+1)])"
   ]
  },
  {
   "cell_type": "code",
   "execution_count": 7,
   "id": "90902d75",
   "metadata": {},
   "outputs": [],
   "source": [
    "# print(f\"How much fuel must they spend to align to that position? {int(fuel)}\")"
   ]
  }
 ],
 "metadata": {
  "kernelspec": {
   "display_name": "Python 3",
   "language": "python",
   "name": "python3"
  },
  "language_info": {
   "codemirror_mode": {
    "name": "ipython",
    "version": 3
   },
   "file_extension": ".py",
   "mimetype": "text/x-python",
   "name": "python",
   "nbconvert_exporter": "python",
   "pygments_lexer": "ipython3",
   "version": "3.7.4"
  }
 },
 "nbformat": 4,
 "nbformat_minor": 5
}

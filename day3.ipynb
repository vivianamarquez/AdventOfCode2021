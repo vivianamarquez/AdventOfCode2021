{
 "cells": [
  {
   "cell_type": "markdown",
   "id": "6bd09921",
   "metadata": {},
   "source": [
    "# --- Day 3: Binary Diagnostic ---\n",
    "Advent of Code 2021"
   ]
  },
  {
   "cell_type": "markdown",
   "id": "dee85332",
   "metadata": {},
   "source": [
    "## Part 1"
   ]
  },
  {
   "cell_type": "code",
   "execution_count": 25,
   "id": "43c47f47",
   "metadata": {},
   "outputs": [],
   "source": [
    "with open(\"input/day3.txt\") as f:\n",
    "    data = f.read().splitlines()"
   ]
  },
  {
   "cell_type": "code",
   "execution_count": 26,
   "id": "e2f49342",
   "metadata": {},
   "outputs": [],
   "source": [
    "len_input = len(data[0])\n",
    "threshold = len(data)/2\n",
    "\n",
    "gamma = \"\"\n",
    "epsilon = \"\"\n",
    "\n",
    "for bit in range(len_input):\n",
    "    cum_sum = 0\n",
    "    for i in data:\n",
    "        cum_sum += int(i[bit])\n",
    "    \n",
    "    if cum_sum == 500:\n",
    "        print(\"Alert\")\n",
    "    \n",
    "    if cum_sum > 500:\n",
    "        gamma += \"1\"\n",
    "        epsilon += \"0\"\n",
    "    else:\n",
    "        gamma += \"0\"\n",
    "        epsilon += \"1\""
   ]
  },
  {
   "cell_type": "code",
   "execution_count": 27,
   "id": "9443a532",
   "metadata": {},
   "outputs": [
    {
     "name": "stdout",
     "output_type": "stream",
     "text": [
      "Gamma: 000100011001 (281)\n",
      "Epsilon: 111011100110 (3814)\n",
      "Power consumption: 1071734\n"
     ]
    }
   ],
   "source": [
    "gamma_dec = int(gamma, 2)\n",
    "epsilon_dec = int(epsilon, 2)\n",
    "\n",
    "print(f\"Gamma: {gamma} ({gamma_dec})\")\n",
    "print(f\"Epsilon: {epsilon} ({epsilon_dec})\")\n",
    "print(f\"Power consumption: {gamma_dec * epsilon_dec}\")"
   ]
  }
 ],
 "metadata": {
  "kernelspec": {
   "display_name": "Python 3",
   "language": "python",
   "name": "python3"
  },
  "language_info": {
   "codemirror_mode": {
    "name": "ipython",
    "version": 3
   },
   "file_extension": ".py",
   "mimetype": "text/x-python",
   "name": "python",
   "nbconvert_exporter": "python",
   "pygments_lexer": "ipython3",
   "version": "3.7.4"
  }
 },
 "nbformat": 4,
 "nbformat_minor": 5
}

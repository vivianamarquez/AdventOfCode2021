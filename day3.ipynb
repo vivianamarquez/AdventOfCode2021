{
 "cells": [
  {
   "cell_type": "markdown",
   "id": "6bd09921",
   "metadata": {},
   "source": [
    "# --- Day 3: Binary Diagnostic ---\n",
    "Advent of Code 2021"
   ]
  },
  {
   "cell_type": "markdown",
   "id": "dee85332",
   "metadata": {},
   "source": [
    "## Part 1"
   ]
  },
  {
   "cell_type": "code",
   "execution_count": 1,
   "id": "69ecf506",
   "metadata": {},
   "outputs": [],
   "source": [
    "with open(\"input/day3.txt\") as f:\n",
    "    data = f.read().splitlines()"
   ]
  },
  {
   "cell_type": "code",
   "execution_count": 2,
   "id": "d22ba77e",
   "metadata": {},
   "outputs": [],
   "source": [
    "len_input = len(data[0])\n",
    "threshold = len(data)/2\n",
    "\n",
    "gamma = \"\"\n",
    "epsilon = \"\"\n",
    "\n",
    "for bit in range(len_input):\n",
    "    cum_sum = 0\n",
    "    for i in data:\n",
    "        cum_sum += int(i[bit])\n",
    "    \n",
    "    if cum_sum == threshold:\n",
    "        print(\"Alert\")\n",
    "    \n",
    "    if cum_sum > threshold:\n",
    "        gamma += \"1\"\n",
    "        epsilon += \"0\"\n",
    "    else:\n",
    "        gamma += \"0\"\n",
    "        epsilon += \"1\""
   ]
  },
  {
   "cell_type": "code",
   "execution_count": 3,
   "id": "d74371ee",
   "metadata": {},
   "outputs": [
    {
     "name": "stdout",
     "output_type": "stream",
     "text": [
      "Gamma: 000100011001 (281)\n",
      "Epsilon: 111011100110 (3814)\n",
      "Power consumption: 1071734\n"
     ]
    }
   ],
   "source": [
    "gamma_dec = int(gamma, 2)\n",
    "epsilon_dec = int(epsilon, 2)\n",
    "\n",
    "print(f\"Gamma: {gamma} ({gamma_dec})\")\n",
    "print(f\"Epsilon: {epsilon} ({epsilon_dec})\")\n",
    "print(f\"Power consumption: {gamma_dec * epsilon_dec}\")"
   ]
  },
  {
   "cell_type": "markdown",
   "id": "70c42443",
   "metadata": {},
   "source": [
    "## Part 2"
   ]
  },
  {
   "cell_type": "code",
   "execution_count": 5,
   "id": "a824c131",
   "metadata": {},
   "outputs": [],
   "source": [
    "data_oxygen = data\n",
    "\n",
    "for bit in range(len_input):\n",
    "    cum_sum = 0\n",
    "    threshold = len(data_oxygen)/2\n",
    "    \n",
    "    for i in data_oxygen:\n",
    "        cum_sum += int(i[bit])\n",
    "    \n",
    "    if cum_sum >= threshold:\n",
    "            data_oxygen = [i for i in data_oxygen if i[bit]=='1']\n",
    "    else:\n",
    "            data_oxygen = [i for i in data_oxygen if i[bit]=='0']\n",
    "            \n",
    "    if len(data_oxygen) == 1:\n",
    "        data_oxygen = data_oxygen[0]\n",
    "        break"
   ]
  },
  {
   "cell_type": "code",
   "execution_count": 6,
   "id": "84f038cf",
   "metadata": {},
   "outputs": [],
   "source": [
    "data_co2 = data\n",
    "\n",
    "for bit in range(len_input):\n",
    "    cum_sum = 0\n",
    "    threshold = len(data_co2)/2\n",
    "    \n",
    "    for i in data_co2:\n",
    "        cum_sum += int(i[bit])\n",
    "\n",
    "    if cum_sum >= threshold:\n",
    "            data_co2 = [i for i in data_co2 if i[bit]=='0']\n",
    "    else:\n",
    "            data_co2 = [i for i in data_co2 if i[bit]=='1']\n",
    "            \n",
    "    if len(data_co2) == 1:\n",
    "        data_co2 = data_co2[0]\n",
    "        break"
   ]
  },
  {
   "cell_type": "code",
   "execution_count": 7,
   "id": "43bf0084",
   "metadata": {},
   "outputs": [
    {
     "name": "stdout",
     "output_type": "stream",
     "text": [
      "Oxygen generator rating: 10111 (23)\n",
      "CO2 scrubber rating: 01010 (10)\n",
      "Life support rating: 230\n"
     ]
    }
   ],
   "source": [
    "data_oxygen_dec = int(data_oxygen, 2)\n",
    "data_co2_dec = int(data_co2, 2)\n",
    "\n",
    "print(f\"Oxygen generator rating: {data_oxygen} ({data_oxygen_dec})\")\n",
    "print(f\"CO2 scrubber rating: {data_co2} ({data_co2_dec})\")\n",
    "print(f\"Life support rating: {data_oxygen_dec * data_co2_dec}\")"
   ]
  }
 ],
 "metadata": {
  "kernelspec": {
   "display_name": "Python 3",
   "language": "python",
   "name": "python3"
  },
  "language_info": {
   "codemirror_mode": {
    "name": "ipython",
    "version": 3
   },
   "file_extension": ".py",
   "mimetype": "text/x-python",
   "name": "python",
   "nbconvert_exporter": "python",
   "pygments_lexer": "ipython3",
   "version": "3.7.4"
  }
 },
 "nbformat": 4,
 "nbformat_minor": 5
}
